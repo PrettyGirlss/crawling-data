{
 "cells": [
  {
   "cell_type": "markdown",
   "id": "9c20aa28",
   "metadata": {},
   "source": [
    "## ChromaDB 만들고 답변 가지고 오기"
   ]
  },
  {
   "cell_type": "markdown",
   "id": "18f60370",
   "metadata": {},
   "source": [
    "---\n",
    "### Chromadb\n",
    "- embedding model : 'all-MiniLM-L6-v2'\n",
    "- Document(page_content = 태그 , metadata = 나머지 정보들)"
   ]
  },
  {
   "cell_type": "code",
   "execution_count": 1,
   "id": "7d2ce399",
   "metadata": {},
   "outputs": [
    {
     "name": "stdout",
     "output_type": "stream",
     "text": [
      "Requirement already satisfied: chromadb in c:\\users\\playdata\\anaconda3\\envs\\llm_env\\lib\\site-packages (1.0.20)\n",
      "Requirement already satisfied: build>=1.0.3 in c:\\users\\playdata\\anaconda3\\envs\\llm_env\\lib\\site-packages (from chromadb) (1.3.0)\n",
      "Requirement already satisfied: pydantic>=1.9 in c:\\users\\playdata\\appdata\\roaming\\python\\python312\\site-packages (from chromadb) (2.11.9)\n",
      "Requirement already satisfied: pybase64>=1.4.1 in c:\\users\\playdata\\anaconda3\\envs\\llm_env\\lib\\site-packages (from chromadb) (1.4.2)\n",
      "Requirement already satisfied: uvicorn>=0.18.3 in c:\\users\\playdata\\anaconda3\\envs\\llm_env\\lib\\site-packages (from uvicorn[standard]>=0.18.3->chromadb) (0.35.0)\n",
      "Requirement already satisfied: numpy>=1.22.5 in c:\\users\\playdata\\anaconda3\\envs\\llm_env\\lib\\site-packages (from chromadb) (2.2.6)\n",
      "Requirement already satisfied: posthog<6.0.0,>=2.4.0 in c:\\users\\playdata\\anaconda3\\envs\\llm_env\\lib\\site-packages (from chromadb) (5.4.0)\n",
      "Requirement already satisfied: typing-extensions>=4.5.0 in c:\\users\\playdata\\anaconda3\\envs\\llm_env\\lib\\site-packages (from chromadb) (4.15.0)\n",
      "Requirement already satisfied: onnxruntime>=1.14.1 in c:\\users\\playdata\\anaconda3\\envs\\llm_env\\lib\\site-packages (from chromadb) (1.22.1)\n",
      "Requirement already satisfied: opentelemetry-api>=1.2.0 in c:\\users\\playdata\\anaconda3\\envs\\llm_env\\lib\\site-packages (from chromadb) (1.36.0)\n",
      "Requirement already satisfied: opentelemetry-exporter-otlp-proto-grpc>=1.2.0 in c:\\users\\playdata\\anaconda3\\envs\\llm_env\\lib\\site-packages (from chromadb) (1.36.0)\n",
      "Requirement already satisfied: opentelemetry-sdk>=1.2.0 in c:\\users\\playdata\\anaconda3\\envs\\llm_env\\lib\\site-packages (from chromadb) (1.36.0)\n",
      "Requirement already satisfied: tokenizers>=0.13.2 in c:\\users\\playdata\\anaconda3\\envs\\llm_env\\lib\\site-packages (from chromadb) (0.21.4)\n",
      "Requirement already satisfied: pypika>=0.48.9 in c:\\users\\playdata\\anaconda3\\envs\\llm_env\\lib\\site-packages (from chromadb) (0.48.9)\n",
      "Requirement already satisfied: tqdm>=4.65.0 in c:\\users\\playdata\\anaconda3\\envs\\llm_env\\lib\\site-packages (from chromadb) (4.67.1)\n",
      "Requirement already satisfied: overrides>=7.3.1 in c:\\users\\playdata\\anaconda3\\envs\\llm_env\\lib\\site-packages (from chromadb) (7.7.0)\n",
      "Requirement already satisfied: importlib-resources in c:\\users\\playdata\\anaconda3\\envs\\llm_env\\lib\\site-packages (from chromadb) (6.5.2)\n",
      "Requirement already satisfied: grpcio>=1.58.0 in c:\\users\\playdata\\anaconda3\\envs\\llm_env\\lib\\site-packages (from chromadb) (1.74.0)\n",
      "Requirement already satisfied: bcrypt>=4.0.1 in c:\\users\\playdata\\anaconda3\\envs\\llm_env\\lib\\site-packages (from chromadb) (4.3.0)\n",
      "Requirement already satisfied: typer>=0.9.0 in c:\\users\\playdata\\anaconda3\\envs\\llm_env\\lib\\site-packages (from chromadb) (0.17.4)\n",
      "Requirement already satisfied: kubernetes>=28.1.0 in c:\\users\\playdata\\anaconda3\\envs\\llm_env\\lib\\site-packages (from chromadb) (33.1.0)\n",
      "Requirement already satisfied: tenacity>=8.2.3 in c:\\users\\playdata\\anaconda3\\envs\\llm_env\\lib\\site-packages (from chromadb) (9.1.2)\n",
      "Requirement already satisfied: pyyaml>=6.0.0 in c:\\users\\playdata\\anaconda3\\envs\\llm_env\\lib\\site-packages (from chromadb) (6.0.2)\n",
      "Requirement already satisfied: mmh3>=4.0.1 in c:\\users\\playdata\\anaconda3\\envs\\llm_env\\lib\\site-packages (from chromadb) (5.2.0)\n",
      "Requirement already satisfied: orjson>=3.9.12 in c:\\users\\playdata\\anaconda3\\envs\\llm_env\\lib\\site-packages (from chromadb) (3.11.3)\n",
      "Requirement already satisfied: httpx>=0.27.0 in c:\\users\\playdata\\anaconda3\\envs\\llm_env\\lib\\site-packages (from chromadb) (0.28.1)\n",
      "Requirement already satisfied: rich>=10.11.0 in c:\\users\\playdata\\anaconda3\\envs\\llm_env\\lib\\site-packages (from chromadb) (14.1.0)\n",
      "Requirement already satisfied: jsonschema>=4.19.0 in c:\\users\\playdata\\anaconda3\\envs\\llm_env\\lib\\site-packages (from chromadb) (4.25.1)\n",
      "Requirement already satisfied: requests<3.0,>=2.7 in c:\\users\\playdata\\anaconda3\\envs\\llm_env\\lib\\site-packages (from posthog<6.0.0,>=2.4.0->chromadb) (2.32.5)\n",
      "Requirement already satisfied: six>=1.5 in c:\\users\\playdata\\anaconda3\\envs\\llm_env\\lib\\site-packages (from posthog<6.0.0,>=2.4.0->chromadb) (1.17.0)\n",
      "Requirement already satisfied: python-dateutil>=2.2 in c:\\users\\playdata\\anaconda3\\envs\\llm_env\\lib\\site-packages (from posthog<6.0.0,>=2.4.0->chromadb) (2.9.0.post0)\n",
      "Requirement already satisfied: backoff>=1.10.0 in c:\\users\\playdata\\anaconda3\\envs\\llm_env\\lib\\site-packages (from posthog<6.0.0,>=2.4.0->chromadb) (2.2.1)\n",
      "Requirement already satisfied: distro>=1.5.0 in c:\\users\\playdata\\anaconda3\\envs\\llm_env\\lib\\site-packages (from posthog<6.0.0,>=2.4.0->chromadb) (1.9.0)\n",
      "Requirement already satisfied: charset_normalizer<4,>=2 in c:\\users\\playdata\\anaconda3\\envs\\llm_env\\lib\\site-packages (from requests<3.0,>=2.7->posthog<6.0.0,>=2.4.0->chromadb) (3.4.3)\n",
      "Requirement already satisfied: idna<4,>=2.5 in c:\\users\\playdata\\anaconda3\\envs\\llm_env\\lib\\site-packages (from requests<3.0,>=2.7->posthog<6.0.0,>=2.4.0->chromadb) (3.10)\n",
      "Requirement already satisfied: urllib3<3,>=1.21.1 in c:\\users\\playdata\\anaconda3\\envs\\llm_env\\lib\\site-packages (from requests<3.0,>=2.7->posthog<6.0.0,>=2.4.0->chromadb) (2.5.0)\n",
      "Requirement already satisfied: certifi>=2017.4.17 in c:\\users\\playdata\\anaconda3\\envs\\llm_env\\lib\\site-packages (from requests<3.0,>=2.7->posthog<6.0.0,>=2.4.0->chromadb) (2025.8.3)\n",
      "Requirement already satisfied: packaging>=19.1 in c:\\users\\playdata\\anaconda3\\envs\\llm_env\\lib\\site-packages (from build>=1.0.3->chromadb) (25.0)\n",
      "Requirement already satisfied: pyproject_hooks in c:\\users\\playdata\\anaconda3\\envs\\llm_env\\lib\\site-packages (from build>=1.0.3->chromadb) (1.2.0)\n",
      "Requirement already satisfied: colorama in c:\\users\\playdata\\anaconda3\\envs\\llm_env\\lib\\site-packages (from build>=1.0.3->chromadb) (0.4.6)\n",
      "Requirement already satisfied: anyio in c:\\users\\playdata\\anaconda3\\envs\\llm_env\\lib\\site-packages (from httpx>=0.27.0->chromadb) (4.10.0)\n",
      "Requirement already satisfied: httpcore==1.* in c:\\users\\playdata\\anaconda3\\envs\\llm_env\\lib\\site-packages (from httpx>=0.27.0->chromadb) (1.0.9)\n",
      "Requirement already satisfied: h11>=0.16 in c:\\users\\playdata\\anaconda3\\envs\\llm_env\\lib\\site-packages (from httpcore==1.*->httpx>=0.27.0->chromadb) (0.16.0)\n",
      "Requirement already satisfied: attrs>=22.2.0 in c:\\users\\playdata\\anaconda3\\envs\\llm_env\\lib\\site-packages (from jsonschema>=4.19.0->chromadb) (25.3.0)\n",
      "Requirement already satisfied: jsonschema-specifications>=2023.03.6 in c:\\users\\playdata\\anaconda3\\envs\\llm_env\\lib\\site-packages (from jsonschema>=4.19.0->chromadb) (2025.4.1)\n",
      "Requirement already satisfied: referencing>=0.28.4 in c:\\users\\playdata\\anaconda3\\envs\\llm_env\\lib\\site-packages (from jsonschema>=4.19.0->chromadb) (0.36.2)\n",
      "Requirement already satisfied: rpds-py>=0.7.1 in c:\\users\\playdata\\anaconda3\\envs\\llm_env\\lib\\site-packages (from jsonschema>=4.19.0->chromadb) (0.27.1)\n",
      "Requirement already satisfied: google-auth>=1.0.1 in c:\\users\\playdata\\anaconda3\\envs\\llm_env\\lib\\site-packages (from kubernetes>=28.1.0->chromadb) (2.40.3)\n",
      "Requirement already satisfied: websocket-client!=0.40.0,!=0.41.*,!=0.42.*,>=0.32.0 in c:\\users\\playdata\\anaconda3\\envs\\llm_env\\lib\\site-packages (from kubernetes>=28.1.0->chromadb) (1.8.0)\n",
      "Requirement already satisfied: requests-oauthlib in c:\\users\\playdata\\anaconda3\\envs\\llm_env\\lib\\site-packages (from kubernetes>=28.1.0->chromadb) (2.0.0)\n",
      "Requirement already satisfied: oauthlib>=3.2.2 in c:\\users\\playdata\\anaconda3\\envs\\llm_env\\lib\\site-packages (from kubernetes>=28.1.0->chromadb) (3.3.1)\n",
      "Requirement already satisfied: durationpy>=0.7 in c:\\users\\playdata\\anaconda3\\envs\\llm_env\\lib\\site-packages (from kubernetes>=28.1.0->chromadb) (0.10)\n",
      "Requirement already satisfied: cachetools<6.0,>=2.0.0 in c:\\users\\playdata\\anaconda3\\envs\\llm_env\\lib\\site-packages (from google-auth>=1.0.1->kubernetes>=28.1.0->chromadb) (5.5.2)\n",
      "Requirement already satisfied: pyasn1-modules>=0.2.1 in c:\\users\\playdata\\anaconda3\\envs\\llm_env\\lib\\site-packages (from google-auth>=1.0.1->kubernetes>=28.1.0->chromadb) (0.4.2)\n",
      "Requirement already satisfied: rsa<5,>=3.1.4 in c:\\users\\playdata\\anaconda3\\envs\\llm_env\\lib\\site-packages (from google-auth>=1.0.1->kubernetes>=28.1.0->chromadb) (4.9.1)\n",
      "Requirement already satisfied: pyasn1>=0.1.3 in c:\\users\\playdata\\anaconda3\\envs\\llm_env\\lib\\site-packages (from rsa<5,>=3.1.4->google-auth>=1.0.1->kubernetes>=28.1.0->chromadb) (0.6.1)\n",
      "Requirement already satisfied: coloredlogs in c:\\users\\playdata\\anaconda3\\envs\\llm_env\\lib\\site-packages (from onnxruntime>=1.14.1->chromadb) (15.0.1)\n",
      "Requirement already satisfied: flatbuffers in c:\\users\\playdata\\anaconda3\\envs\\llm_env\\lib\\site-packages (from onnxruntime>=1.14.1->chromadb) (25.2.10)\n",
      "Requirement already satisfied: protobuf in c:\\users\\playdata\\anaconda3\\envs\\llm_env\\lib\\site-packages (from onnxruntime>=1.14.1->chromadb) (6.32.0)\n",
      "Requirement already satisfied: sympy in c:\\users\\playdata\\appdata\\roaming\\python\\python312\\site-packages (from onnxruntime>=1.14.1->chromadb) (1.14.0)\n",
      "Requirement already satisfied: importlib-metadata<8.8.0,>=6.0 in c:\\users\\playdata\\anaconda3\\envs\\llm_env\\lib\\site-packages (from opentelemetry-api>=1.2.0->chromadb) (8.7.0)\n",
      "Requirement already satisfied: zipp>=3.20 in c:\\users\\playdata\\anaconda3\\envs\\llm_env\\lib\\site-packages (from importlib-metadata<8.8.0,>=6.0->opentelemetry-api>=1.2.0->chromadb) (3.23.0)\n",
      "Requirement already satisfied: googleapis-common-protos~=1.57 in c:\\users\\playdata\\anaconda3\\envs\\llm_env\\lib\\site-packages (from opentelemetry-exporter-otlp-proto-grpc>=1.2.0->chromadb) (1.70.0)\n",
      "Requirement already satisfied: opentelemetry-exporter-otlp-proto-common==1.36.0 in c:\\users\\playdata\\anaconda3\\envs\\llm_env\\lib\\site-packages (from opentelemetry-exporter-otlp-proto-grpc>=1.2.0->chromadb) (1.36.0)\n",
      "Requirement already satisfied: opentelemetry-proto==1.36.0 in c:\\users\\playdata\\anaconda3\\envs\\llm_env\\lib\\site-packages (from opentelemetry-exporter-otlp-proto-grpc>=1.2.0->chromadb) (1.36.0)\n",
      "Requirement already satisfied: opentelemetry-semantic-conventions==0.57b0 in c:\\users\\playdata\\anaconda3\\envs\\llm_env\\lib\\site-packages (from opentelemetry-sdk>=1.2.0->chromadb) (0.57b0)\n",
      "Requirement already satisfied: annotated-types>=0.6.0 in c:\\users\\playdata\\appdata\\roaming\\python\\python312\\site-packages (from pydantic>=1.9->chromadb) (0.7.0)\n",
      "Requirement already satisfied: pydantic-core==2.33.2 in c:\\users\\playdata\\anaconda3\\envs\\llm_env\\lib\\site-packages (from pydantic>=1.9->chromadb) (2.33.2)\n",
      "Requirement already satisfied: typing-inspection>=0.4.0 in c:\\users\\playdata\\anaconda3\\envs\\llm_env\\lib\\site-packages (from pydantic>=1.9->chromadb) (0.4.1)\n",
      "Requirement already satisfied: markdown-it-py>=2.2.0 in c:\\users\\playdata\\anaconda3\\envs\\llm_env\\lib\\site-packages (from rich>=10.11.0->chromadb) (4.0.0)\n",
      "Requirement already satisfied: pygments<3.0.0,>=2.13.0 in c:\\users\\playdata\\anaconda3\\envs\\llm_env\\lib\\site-packages (from rich>=10.11.0->chromadb) (2.19.2)\n",
      "Requirement already satisfied: mdurl~=0.1 in c:\\users\\playdata\\anaconda3\\envs\\llm_env\\lib\\site-packages (from markdown-it-py>=2.2.0->rich>=10.11.0->chromadb) (0.1.2)\n",
      "Requirement already satisfied: huggingface-hub<1.0,>=0.16.4 in c:\\users\\playdata\\appdata\\roaming\\python\\python312\\site-packages (from tokenizers>=0.13.2->chromadb) (0.34.4)\n",
      "Requirement already satisfied: filelock in c:\\users\\playdata\\appdata\\roaming\\python\\python312\\site-packages (from huggingface-hub<1.0,>=0.16.4->tokenizers>=0.13.2->chromadb) (3.19.1)\n",
      "Requirement already satisfied: fsspec>=2023.5.0 in c:\\users\\playdata\\appdata\\roaming\\python\\python312\\site-packages (from huggingface-hub<1.0,>=0.16.4->tokenizers>=0.13.2->chromadb) (2025.9.0)\n",
      "Requirement already satisfied: click>=8.0.0 in c:\\users\\playdata\\appdata\\roaming\\python\\python312\\site-packages (from typer>=0.9.0->chromadb) (8.2.1)\n",
      "Requirement already satisfied: shellingham>=1.3.0 in c:\\users\\playdata\\anaconda3\\envs\\llm_env\\lib\\site-packages (from typer>=0.9.0->chromadb) (1.5.4)\n",
      "Requirement already satisfied: httptools>=0.6.3 in c:\\users\\playdata\\anaconda3\\envs\\llm_env\\lib\\site-packages (from uvicorn[standard]>=0.18.3->chromadb) (0.6.4)\n",
      "Requirement already satisfied: python-dotenv>=0.13 in c:\\users\\playdata\\anaconda3\\envs\\llm_env\\lib\\site-packages (from uvicorn[standard]>=0.18.3->chromadb) (1.1.1)\n",
      "Requirement already satisfied: watchfiles>=0.13 in c:\\users\\playdata\\anaconda3\\envs\\llm_env\\lib\\site-packages (from uvicorn[standard]>=0.18.3->chromadb) (1.1.0)\n",
      "Requirement already satisfied: websockets>=10.4 in c:\\users\\playdata\\anaconda3\\envs\\llm_env\\lib\\site-packages (from uvicorn[standard]>=0.18.3->chromadb) (15.0.1)\n",
      "Requirement already satisfied: sniffio>=1.1 in c:\\users\\playdata\\anaconda3\\envs\\llm_env\\lib\\site-packages (from anyio->httpx>=0.27.0->chromadb) (1.3.1)\n",
      "Requirement already satisfied: humanfriendly>=9.1 in c:\\users\\playdata\\anaconda3\\envs\\llm_env\\lib\\site-packages (from coloredlogs->onnxruntime>=1.14.1->chromadb) (10.0)\n",
      "Requirement already satisfied: pyreadline3 in c:\\users\\playdata\\anaconda3\\envs\\llm_env\\lib\\site-packages (from humanfriendly>=9.1->coloredlogs->onnxruntime>=1.14.1->chromadb) (3.5.4)\n",
      "Requirement already satisfied: mpmath<1.4,>=1.1.0 in c:\\users\\playdata\\appdata\\roaming\\python\\python312\\site-packages (from sympy->onnxruntime>=1.14.1->chromadb) (1.3.0)\n"
     ]
    }
   ],
   "source": [
    "!pip install chromadb"
   ]
  },
  {
   "cell_type": "code",
   "execution_count": 4,
   "id": "f574cc68",
   "metadata": {},
   "outputs": [],
   "source": [
    "import chromadb\n",
    "\n",
    "client = chromadb.PersistentClient(path='./chromadb_tag_only')"
   ]
  },
  {
   "cell_type": "code",
   "execution_count": 3,
   "id": "6f4e5a37",
   "metadata": {},
   "outputs": [],
   "source": [
    "from sentence_transformers import SentenceTransformer\n",
    "\n",
    "embedding_model = SentenceTransformer('all-MiniLM-L6-v2')"
   ]
  },
  {
   "cell_type": "code",
   "execution_count": 5,
   "id": "df20400a",
   "metadata": {},
   "outputs": [],
   "source": [
    "collection = client.get_or_create_collection(name='tour_tag')"
   ]
  },
  {
   "cell_type": "code",
   "execution_count": null,
   "id": "901741df",
   "metadata": {},
   "outputs": [],
   "source": [
    "# pd 생성 후 태그만 임베딩하기\n",
    "\n",
    "df = pd.read_csv('찐막 전국 데이터.csv')\n",
    "\n",
    "documents = [df.iloc[idx]['태그'] for idx in range(len(df))]\n",
    "embedded_docs = embedding_model.encode(documents).tolist()"
   ]
  },
  {
   "cell_type": "code",
   "execution_count": null,
   "id": "9d1322b4",
   "metadata": {},
   "outputs": [],
   "source": [
    "# 메타 데이터 생성\n",
    "\n",
    "def remove_nonwords(text):\n",
    "    if type(text)!= float :\n",
    "        text = text.replace(':)',\"\")    # :) 제거\n",
    "        text = text.replace(\"※\",\"\")\n",
    "        text = text.replace('-','')\n",
    "        text = text.replace('\\n더보기','')      # \\n 더보기, \\n 닫기, \\n 제거\n",
    "        text = text.replace('\\n닫기','')\n",
    "        text = text.replace('\\r\\n',' ')\n",
    "        text = text.replace('\\n',' ')\n",
    "        text = text.replace('\\r', ' ')\n",
    "        text = re.sub('[^a-zA-Z가-힣\\'\"· 0-9.,()㎡[0-9]~[0-9]]','',text) # 숫자와 숫자 사이에 있는 ~ 남겨야함\n",
    "    else:\n",
    "        pass\n",
    "    return text     # 제거한 텍스트 반환\n",
    "\n",
    "metadata=[]\n",
    "for idx in range(len(df)):\n",
    "    meta_data = {}\n",
    "    row = df.iloc[idx][df.iloc[idx].notna()]\n",
    "    cols = list(row.index)   # None이 아닌 컬럼들 == row.index \n",
    "\n",
    "    for col in cols:     \n",
    "        modified_data = remove_nonwords(row[col])\n",
    "        meta_data[col] = modified_data\n",
    "    metadata.append(meta_data)"
   ]
  },
  {
   "cell_type": "code",
   "execution_count": null,
   "id": "4eb09532",
   "metadata": {},
   "outputs": [],
   "source": [
    "# 컬렉션에 추가\n",
    "collection.add(\n",
    "    ids = [str(i) for i in range(len(documents))],\n",
    "    embeddings = [embedded_docs],\n",
    "    documents = documents,      # 오류나면 빼기\n",
    "    metadatas = metadata\n",
    ")"
   ]
  },
  {
   "cell_type": "code",
   "execution_count": null,
   "id": "a2b47585",
   "metadata": {},
   "outputs": [],
   "source": [
    "# 질문 입력 -> 질문 임베딩 -> collection에 전달 -> 상위 결과 5개 뽑기\n",
    "question = '가족들과 가기 좋은 캠핑장 알려줘'\n",
    "\n",
    "embedded_question = embedding_model.encode(question).tolist()\n",
    "\n",
    "top_n = 5\n",
    "context = collection.query(\n",
    "    query_embeddings= embedded_question,\n",
    "    n_results = top_n\n",
    ")\n",
    "\n",
    "# 확인용 코드\n",
    "print(f'Q: {question}')\n",
    "for i in range(top_n):\n",
    "    print(context)\n",
    "    print(f\"장소 이름 : {context['metadatas'][i][0]['place']}\")\n",
    "    print(f\"주소 : {context['metadatas'][i][0]['주소']}\")\n",
    "    print(f\"태그 : {context['metadatas'][i][0]['태그']}\")\n",
    "    print()"
   ]
  },
  {
   "cell_type": "code",
   "execution_count": null,
   "id": "a2d0f4fb",
   "metadata": {},
   "outputs": [],
   "source": [
    "# sllm 모델 생성\n",
    "from transformers import AutoModel\n",
    "\n",
    "model_name = \"0lipa/SEED-1.5B-travel-finetuned\"\n",
    "# sllm = AutoModel.from_pretrained(\"0lipa/SEED-1.5B-travel-finetuned\", torch_dtype=\"auto\")\n",
    "sllm = AutoModelForCausalLM.from_pretrained(model_name, device_map=\"auto\")\n",
    "tokenizer = AutoTokenizer.from_pretrained(model_name)"
   ]
  },
  {
   "cell_type": "code",
   "execution_count": null,
   "id": "00d2f4f6",
   "metadata": {},
   "outputs": [],
   "source": [
    "# 프롬프트 생성 -> sllm 응답 요청 \n",
    "\n",
    "# 채팅 로그 수정할 수 있는 함수 설정\n",
    "def modify_chat_log(chatting_log,message):\n",
    "    if len(chatting_log)% 2 == 0:\n",
    "        chatting_log.append({\"role\": \"assistant\", \"content\": message})\n",
    "    else:\n",
    "        chatting_log.append({'role':'user','content':message})\n",
    "    return chatting_log\n",
    "\n",
    "prompt = f'{question} \\n 다음 정보를 활용하여 간략하게 10문장 이내로 출력하시오.{context}'\n",
    "\n",
    "chat_history = [\n",
    "    {\"role\": \"system\", \"content\": \"너는 대한민국 관광지를 친절하게 알려주는 챗봇이야. 질문에 친절하게 간략하게 답변해줘. 단, 문맥에 없는 정보는 만들어내지마.\"}\n",
    "]\n",
    "\n",
    "chat_history = modify_chat_log(chat_history,prompt)\n",
    "\n",
    "inputs = tokenizer.apply_chat_template(chat_history, add_generation_prompt=True, return_dict=True, return_tensors=\"pt\")\n",
    "inputs = inputs.to(\"cuda\")\n",
    "output_ids = sllm.generate(\n",
    "    **inputs,\n",
    "    max_length=1024,\n",
    "    stop_strings=[\"<|endofturn|>\", \"<|stop|>\"],\n",
    "    tokenizer=tokenizer\n",
    "    )\n",
    "print(tokenizer.batch_decode(output_ids)[0])"
   ]
  },
  {
   "cell_type": "markdown",
   "id": "c368327b",
   "metadata": {},
   "source": [
    "---\n",
    "### Chromadb\n",
    "- embedding model : 'all-MiniLM-L6-v2'\n",
    "- Document(page_content = 태그와 짧은 설명 , metadata = 나머지 정보들)"
   ]
  },
  {
   "cell_type": "code",
   "execution_count": null,
   "id": "2d621472",
   "metadata": {},
   "outputs": [],
   "source": [
    "# pd 생성 후 태그랑 short_info 합쳐서 임베딩하기\n",
    "\n",
    "df = pd.read_csv('찐막 전국 데이터.csv')\n",
    "\n",
    "documents = []\n",
    "for idx in range(len(df)):\n",
    "    data = ''\n",
    "    if df.iloc[idx]['태그'] is not None and df.iloc[idx]['short_info'] is not None:\n",
    "        data = df.iloc[idx]['태그'] + \" \" + df.iloc[idx]['short_info']\n",
    "    elif df.iloc[idx]['태그'] is not None and df.iloc[idx]['short_info'] is None:\n",
    "        data = df.iloc[idx]['태그']\n",
    "    elif df.iloc[idx]['태그'] is None and df.iloc[idx]['short_info'] is not None:\n",
    "        data = df.iloc[idx]['short_info']\n",
    "    else:\n",
    "        pass\n",
    "    documents.append(data)\n",
    "\n",
    "embedded_docs = embedding_model.encode(documents).tolist()"
   ]
  },
  {
   "cell_type": "code",
   "execution_count": null,
   "id": "df5bafbe",
   "metadata": {},
   "outputs": [],
   "source": [
    "# 메타 데이터 생성\n",
    "\n",
    "def remove_nonwords(text):\n",
    "    if type(text)!= float :\n",
    "        text = text.replace(':)',\"\")    # :) 제거\n",
    "        text = text.replace(\"※\",\"\")\n",
    "        text = text.replace('-','')\n",
    "        text = text.replace('\\n더보기','')      # \\n 더보기, \\n 닫기, \\n 제거\n",
    "        text = text.replace('\\n닫기','')\n",
    "        text = text.replace('\\r\\n',' ')\n",
    "        text = text.replace('\\n',' ')\n",
    "        text = text.replace('\\r', ' ')\n",
    "        text = re.sub('[^a-zA-Z가-힣\\'\"· 0-9.,()㎡[0-9]~[0-9]]','',text) # 숫자와 숫자 사이에 있는 ~ 남겨야함\n",
    "    else:\n",
    "        pass\n",
    "    return text     # 제거한 텍스트 반환\n",
    "\n",
    "metadata=[]\n",
    "for idx in range(len(df)):\n",
    "    meta_data = {}\n",
    "    row = df.iloc[idx][df.iloc[idx].notna()]\n",
    "    cols = list(row.index)   # None이 아닌 컬럼들 == row.index \n",
    "\n",
    "    for col in cols:     \n",
    "        modified_data = remove_nonwords(row[col])\n",
    "        meta_data[col] = modified_data\n",
    "    metadata.append(meta_data)"
   ]
  },
  {
   "cell_type": "code",
   "execution_count": null,
   "id": "146b25e8",
   "metadata": {},
   "outputs": [],
   "source": [
    "# 컬렉션에 추가\n",
    "collection.add(\n",
    "    ids = [str(i) for i in range(len(documents))],\n",
    "    embeddings = [embedded_docs],\n",
    "    documents = documents,      # 오류나면 빼기\n",
    "    metadatas = metadata\n",
    ")"
   ]
  },
  {
   "cell_type": "code",
   "execution_count": null,
   "id": "a034df21",
   "metadata": {},
   "outputs": [],
   "source": [
    "# 질문 입력 -> 질문 임베딩 -> collection에 전달 -> 상위 결과 5개 뽑기\n",
    "question = '가족들과 가기 좋은 캠핑장 알려줘'\n",
    "\n",
    "embedded_question = embedding_model.encode(question).tolist()\n",
    "\n",
    "top_n = 5\n",
    "context = collection.query(\n",
    "    query_embeddings= embedded_question,\n",
    "    n_results = top_n\n",
    ")\n",
    "\n",
    "# 확인용 코드\n",
    "print(f'Q: {question}')\n",
    "for i in range(top_n):\n",
    "    print(context)\n",
    "    print(f\"장소 이름 : {context['metadatas'][i][0]['place']}\")\n",
    "    print(f\"주소 : {context['metadatas'][i][0]['주소']}\")\n",
    "    print(f\"태그 : {context['metadatas'][i][0]['태그']}\")\n",
    "    print()"
   ]
  },
  {
   "cell_type": "code",
   "execution_count": null,
   "id": "ac9f44c9",
   "metadata": {},
   "outputs": [],
   "source": [
    "# sllm 모델 생성\n",
    "from transformers import AutoModel\n",
    "\n",
    "model_name = \"0lipa/SEED-1.5B-travel-finetuned\"\n",
    "# sllm = AutoModel.from_pretrained(\"0lipa/SEED-1.5B-travel-finetuned\", torch_dtype=\"auto\")\n",
    "sllm = AutoModelForCausalLM.from_pretrained(model_name, device_map=\"auto\")\n",
    "tokenizer = AutoTokenizer.from_pretrained(model_name)"
   ]
  },
  {
   "cell_type": "code",
   "execution_count": null,
   "id": "cc9241a1",
   "metadata": {},
   "outputs": [],
   "source": [
    "# 프롬프트 생성 -> sllm 응답 요청 \n",
    "\n",
    "# 채팅 로그 수정할 수 있는 함수 설정\n",
    "def modify_chat_log(chatting_log,message):\n",
    "    if len(chatting_log)% 2 == 0:\n",
    "        chatting_log.append({\"role\": \"assistant\", \"content\": message})\n",
    "    else:\n",
    "        chatting_log.append({'role':'user','content':message})\n",
    "    return chatting_log\n",
    "\n",
    "prompt = f'{question} \\n 다음 정보를 활용하여 간략하게 10문장 이내로 출력하시오.{context}'\n",
    "\n",
    "chat_history = [\n",
    "    {\"role\": \"system\", \"content\": \"너는 대한민국 관광지를 친절하게 알려주는 챗봇이야. 질문에 친절하게 간략하게 답변해줘. 단, 문맥에 없는 정보는 만들어내지마.\"}\n",
    "]\n",
    "\n",
    "chat_history = modify_chat_log(chat_history,prompt)\n",
    "\n",
    "inputs = tokenizer.apply_chat_template(chat_history, add_generation_prompt=True, return_dict=True, return_tensors=\"pt\")\n",
    "inputs = inputs.to(\"cuda\")\n",
    "output_ids = sllm.generate(\n",
    "    **inputs,\n",
    "    max_length=1024,\n",
    "    stop_strings=[\"<|endofturn|>\", \"<|stop|>\"],\n",
    "    tokenizer=tokenizer\n",
    "    )\n",
    "print(tokenizer.batch_decode(output_ids)[0])"
   ]
  },
  {
   "cell_type": "markdown",
   "id": "17f57316",
   "metadata": {},
   "source": [
    "----\n",
    "# Retriever 이용"
   ]
  },
  {
   "cell_type": "code",
   "execution_count": null,
   "id": "c31cb307",
   "metadata": {},
   "outputs": [],
   "source": [
    "# Document로 저장\n",
    "\n",
    "from langchain.text_splitter import RecursiveCharacterTextSplitter      # 재귀적으로 text splitter  큰 chunk -> 작은 chunk 로 분할할 chunk size 지정\n",
    "import preprocess_functions as pf\n",
    "\n",
    "documents = pf.make_tag_page_content('찐막 전국 데이터.csv')    # 태그와 짤막한 설명을 같이 page_content에 넣어주는 경우\n",
    "documents"
   ]
  },
  {
   "cell_type": "code",
   "execution_count": null,
   "id": "5f51ee80",
   "metadata": {},
   "outputs": [],
   "source": [
    "# 임베딩 모델 생성 및 vectorstore 생성\n",
    "from langchain_chroma.vectorstores import Chroma\n",
    "from sentence_transformers import SentenceTransformer\n",
    "\n",
    "embedding_model = SentenceTransformer('all-MiniLM-L6-v2')\n",
    "vector_store = Chroma.from_documents(documents, embedding_model)"
   ]
  },
  {
   "cell_type": "code",
   "execution_count": null,
   "id": "31cb6c16",
   "metadata": {},
   "outputs": [],
   "source": [
    "# 2. Retriever를 활용한 검색\n",
    "\n",
    "question = '가족들과 가기 좋은 캠핑장 알려줘'\n",
    "\n",
    "retriever = vector_store.as_retriever(\n",
    "    search_type='similarity',\n",
    "    search_kwargs = {'k':10}\n",
    ")\n",
    "\n",
    "retriever_result = retriever.batch([question])\n",
    "retriever_result"
   ]
  },
  {
   "cell_type": "code",
   "execution_count": null,
   "id": "85fedca3",
   "metadata": {},
   "outputs": [],
   "source": [
    "# 프롬프트 템플릿 생성\n",
    "\n",
    "from langchain_core.prompts import ChatPromptTemplate\n",
    "\n",
    "chatting_log = [\n",
    "    ('system', '너는 대한민국 관광지를 친절하게 알려주는 챗봇이야. 질문에 친절하게 간략하게 답변해줘. 단, 문맥에 없는 정보는 만들어내지마.'),\n",
    "    ('user', '''어린이의 질문에 context만을 이용해 답변하세요.\n",
    "context에서 확인할 수 없는 질문이라면 모른다고 답변해야 합니다.\n",
    "최종 응답에는 참조한 context에 대한 정보를 추가해 주세요.\n",
    "\n",
    "     질문: {query}\n",
    "     context: {context}\n",
    "''')\n",
    "]\n",
    "\n",
    "prompt_tpl = ChatPromptTemplate(chatting_log)\n",
    "# prompt_tpl.invoke({'query': query, 'context': retriever_result})"
   ]
  },
  {
   "cell_type": "code",
   "execution_count": null,
   "id": "34350d89",
   "metadata": {},
   "outputs": [],
   "source": [
    "# sllm 모델 생성\n",
    "from transformers import AutoModel\n",
    "from transformers.models import AutoModelForCausalLM, AutoTokenizer\n",
    "\n",
    "model_name = \"0lipa/SEED-1.5B-travel-finetuned\"\n",
    "# sllm = AutoModel.from_pretrained(\"0lipa/SEED-1.5B-travel-finetuned\", torch_dtype=\"auto\")\n",
    "sllm = AutoModelForCausalLM.from_pretrained(model_name, device_map=\"auto\")\n",
    "tokenizer = AutoTokenizer.from_pretrained(model_name)"
   ]
  },
  {
   "cell_type": "code",
   "execution_count": null,
   "id": "cf84fee6",
   "metadata": {},
   "outputs": [],
   "source": [
    "# 체인 생성\n",
    "from langchain_core.output_parsers import StrOutputParser\n",
    "\n",
    "chain = prompt_tpl | sllm | StrOutputParser()"
   ]
  },
  {
   "cell_type": "code",
   "execution_count": null,
   "id": "eab75586",
   "metadata": {},
   "outputs": [],
   "source": [
    "retriever_result = retriever.batch([query])\n",
    "response = chain.invoke({'query': question, 'context': retriever_result})\n",
    "print(response)"
   ]
  }
 ],
 "metadata": {
  "kernelspec": {
   "display_name": "llm_env",
   "language": "python",
   "name": "python3"
  },
  "language_info": {
   "codemirror_mode": {
    "name": "ipython",
    "version": 3
   },
   "file_extension": ".py",
   "mimetype": "text/x-python",
   "name": "python",
   "nbconvert_exporter": "python",
   "pygments_lexer": "ipython3",
   "version": "3.12.11"
  }
 },
 "nbformat": 4,
 "nbformat_minor": 5
}
