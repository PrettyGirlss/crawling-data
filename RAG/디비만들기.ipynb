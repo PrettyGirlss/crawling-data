{
 "cells": [
  {
   "cell_type": "code",
   "execution_count": 1,
   "id": "4a115951",
   "metadata": {},
   "outputs": [
    {
     "data": {
      "text/plain": [
       "True"
      ]
     },
     "execution_count": 1,
     "metadata": {},
     "output_type": "execute_result"
    }
   ],
   "source": [
    "from dotenv import load_dotenv\n",
    "load_dotenv()"
   ]
  },
  {
   "cell_type": "code",
   "execution_count": 2,
   "id": "e2fa397e",
   "metadata": {},
   "outputs": [],
   "source": [
    "import chromadb\n",
    "\n",
    "chroma_client = chromadb.Client()"
   ]
  },
  {
   "cell_type": "code",
   "execution_count": 3,
   "id": "2b91949b",
   "metadata": {},
   "outputs": [],
   "source": [
    "collection = chroma_client.create_collection(name='review_place_address_tags')"
   ]
  },
  {
   "cell_type": "code",
   "execution_count": 6,
   "id": "1c976a07",
   "metadata": {},
   "outputs": [
    {
     "name": "stderr",
     "output_type": "stream",
     "text": [
      "d:\\SKN\\3차 단위 프로젝트\\rag관련\\preprocess_functions.py:23: DtypeWarning: Columns (2,55,57,58,59,60,63,64,67,68,69,70,72) have mixed types. Specify dtype option on import or set low_memory=False.\n",
      "  new_df = pd.read_csv(file_path)\n"
     ]
    },
    {
     "ename": "AttributeError",
     "evalue": "'numpy.float64' object has no attribute 'replace'",
     "output_type": "error",
     "traceback": [
      "\u001b[31m---------------------------------------------------------------------------\u001b[39m",
      "\u001b[31mAttributeError\u001b[39m                            Traceback (most recent call last)",
      "\u001b[36mCell\u001b[39m\u001b[36m \u001b[39m\u001b[32mIn[6]\u001b[39m\u001b[32m, line 3\u001b[39m\n\u001b[32m      1\u001b[39m \u001b[38;5;28;01mimport\u001b[39;00m\u001b[38;5;250m \u001b[39m\u001b[34;01mpreprocess_functions\u001b[39;00m\u001b[38;5;250m \u001b[39m\u001b[38;5;28;01mas\u001b[39;00m\u001b[38;5;250m \u001b[39m\u001b[34;01mpf\u001b[39;00m\n\u001b[32m----> \u001b[39m\u001b[32m3\u001b[39m documents = \u001b[43mpf\u001b[49m\u001b[43m.\u001b[49m\u001b[43mmake_csv_to_documents_sep\u001b[49m\u001b[43m(\u001b[49m\u001b[33;43m'\u001b[39;49m\u001b[33;43m찐찐찐찐막 전국 데이터.csv\u001b[39;49m\u001b[33;43m'\u001b[39;49m\u001b[43m)\u001b[49m\n",
      "\u001b[36mFile \u001b[39m\u001b[32md:\\SKN\\3차 단위 프로젝트\\rag관련\\preprocess_functions.py:43\u001b[39m, in \u001b[36mmake_csv_to_documents_sep\u001b[39m\u001b[34m(file_path)\u001b[39m\n\u001b[32m     41\u001b[39m         location_data[\u001b[33m'\u001b[39m\u001b[33mreview\u001b[39m\u001b[33m'\u001b[39m] = modified_review\n\u001b[32m     42\u001b[39m \u001b[38;5;28;01melse\u001b[39;00m:\n\u001b[32m---> \u001b[39m\u001b[32m43\u001b[39m     row[col] = \u001b[43mrow\u001b[49m\u001b[43m[\u001b[49m\u001b[43mcol\u001b[49m\u001b[43m]\u001b[49m\u001b[43m.\u001b[49m\u001b[43mreplace\u001b[49m(\u001b[33m'\u001b[39m\u001b[38;5;130;01m\\r\u001b[39;00m\u001b[38;5;130;01m\\n\u001b[39;00m\u001b[33m'\u001b[39m,\u001b[33m'\u001b[39m\u001b[33m \u001b[39m\u001b[33m'\u001b[39m)\n\u001b[32m     44\u001b[39m     row[col] = row[col].replace(\u001b[33m'\u001b[39m\u001b[38;5;130;01m\\n\u001b[39;00m\u001b[33m'\u001b[39m, \u001b[33m'\u001b[39m\u001b[33m \u001b[39m\u001b[33m'\u001b[39m)\n\u001b[32m     45\u001b[39m     row[col] = row[col].replace(\u001b[33m'\u001b[39m\u001b[38;5;130;01m\\r\u001b[39;00m\u001b[33m'\u001b[39m,\u001b[33m'\u001b[39m\u001b[33m \u001b[39m\u001b[33m'\u001b[39m)\n",
      "\u001b[31mAttributeError\u001b[39m: 'numpy.float64' object has no attribute 'replace'"
     ]
    }
   ],
   "source": [
    "import preprocess_functions as pf\n",
    "\n",
    "documents = pf.make_csv_to_documents_sep('찐찐찐찐막 전국 데이터.csv')"
   ]
  },
  {
   "cell_type": "code",
   "execution_count": null,
   "id": "48913a3e",
   "metadata": {},
   "outputs": [],
   "source": [
    "from langchain.vectorstores import Chroma\n",
    "from langchain_huggingface import HuggingFaceEmbeddings\n",
    "\n",
    "embedding_function = HuggingFaceEmbeddings(model_name='sentence-transformers/all-MiniLM-L12-v2')\n",
    "# 1. 컬렉션 생성\n",
    "collection = chroma_client.create_collection(name='place_address_tags')\n",
    "\n",
    "# 2. 벡터 스토어 객체 생성 (컬렉션 이름을 사용하여 연결)\n",
    "vectorstore = Chroma(\n",
    "    collection_name=\"place_address_tags\",  # 컬렉션 이름\n",
    "    embedding_function=embedding_function,  # 벡터화할 임베딩 함수\n",
    "    persist_directory='./chroma_1'           # 벡터 DB를 저장할 디렉토리\n",
    ")"
   ]
  },
  {
   "cell_type": "code",
   "execution_count": null,
   "id": "2c3d4b7b",
   "metadata": {},
   "outputs": [],
   "source": [
    "from sentence_transformers import SentenceTransformer\n",
    "from langchain.text_splitter import CharacterTextSplitter\n",
    "from langchain.text_splitter import RecursiveCharacterTextSplitter\n",
    "\n",
    "text_splitter = CharacterTextSplitter(chunk_size=100, chunk_overlap=20)\n",
    "embedding_model = SentenceTransformer('all-MiniLM-L12-v2')\n",
    "\n",
    "\n",
    "documents_to_store = []\n",
    "for doc in documents:\n",
    "    metadata = doc.metadata\n",
    "    \n",
    "    # place, 주소, 태그만 추출하여 새로운 metadata 만들기\n",
    "    filtered_metadata = {\n",
    "        \"place\": metadata.get(\"place\", \"\"),\n",
    "        \"주소\": metadata.get(\"주소\", \"\"),\n",
    "        \"태그\": metadata.get(\"태그\", \"\")\n",
    "    }\n",
    "    \n",
    "    # page_content로 청킹 수행\n",
    "    page_content = f\"{filtered_metadata['place']} {filtered_metadata['주소']} {filtered_metadata['태그']}\"\n",
    "    chunks = text_splitter.split_text(page_content)  # 청킹 수행\n",
    "\n",
    "    # 각 청크에 대해 Document 객체로 감싸서 문서 목록에 추가\n",
    "    for chunk in chunks:\n",
    "        document = Document(\n",
    "            page_content=chunk,  # 청크된 텍스트\n",
    "            metadata=filtered_metadata  # metadata\n",
    "        )\n",
    "        documents_to_store.append(document)\n",
    "\n",
    "# 임베딩 생성\n",
    "embeddings = embedding_model.encode([doc.page_content for doc in documents_to_store])\n",
    "\n",
    "# Chroma 벡터 DB에 문서 추가 (배치 처리)\n",
    "batch_size = 5461  # Chroma에서 허용하는 최대 배치 크기\n",
    "\n",
    "# 문서를 배치 단위로 나누어 추가\n",
    "for i in range(0, len(documents_to_store), batch_size):\n",
    "    batch_documents = documents_to_store[i:i + batch_size]\n",
    "    batch_embeddings = embeddings[i:i + batch_size]\n",
    "    \n",
    "    # 벡터 DB에 배치 추가\n",
    "    vectorstore.add_documents(\n",
    "        documents=batch_documents,\n",
    "        embeddings=batch_embeddings\n",
    "    )\n",
    "\n",
    "# 벡터 DB에 변경 사항 저장\n",
    "vectorstore.persist()"
   ]
  }
 ],
 "metadata": {
  "kernelspec": {
   "display_name": "3rd_project_env",
   "language": "python",
   "name": "python3"
  },
  "language_info": {
   "codemirror_mode": {
    "name": "ipython",
    "version": 3
   },
   "file_extension": ".py",
   "mimetype": "text/x-python",
   "name": "python",
   "nbconvert_exporter": "python",
   "pygments_lexer": "ipython3",
   "version": "3.12.11"
  }
 },
 "nbformat": 4,
 "nbformat_minor": 5
}
