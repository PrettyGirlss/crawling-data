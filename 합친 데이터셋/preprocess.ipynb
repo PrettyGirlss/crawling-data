{
 "cells": [
  {
   "cell_type": "code",
   "execution_count": 2,
   "id": "b15acff5",
   "metadata": {},
   "outputs": [],
   "source": [
    "import pandas as pd\n",
    "import numpy as np"
   ]
  },
  {
   "cell_type": "code",
   "execution_count": 31,
   "id": "fdc64cd5",
   "metadata": {},
   "outputs": [],
   "source": [
    "# 텔이라는 글자가 있으면 True 아니면 False를 반환하게 하는 함수\n",
    "def make_bool_list(dataframe):\n",
    "    bool_list = []\n",
    "    for place in dataframe['place']:\n",
    "        if '텔' in place:\n",
    "            bool_list.append(True)\n",
    "        else:\n",
    "            bool_list.append(False)\n",
    "    return bool_list"
   ]
  },
  {
   "cell_type": "markdown",
   "id": "4588685d",
   "metadata": {},
   "source": [
    "##### make_bool_list로 장소 이름에 \"호텔\" \"모텔\" \"무인텔\" 등이 들어가는 것들 추출"
   ]
  },
  {
   "cell_type": "code",
   "execution_count": 30,
   "id": "23edd7cd",
   "metadata": {},
   "outputs": [
    {
     "data": {
      "text/html": [
       "<div>\n",
       "<style scoped>\n",
       "    .dataframe tbody tr th:only-of-type {\n",
       "        vertical-align: middle;\n",
       "    }\n",
       "\n",
       "    .dataframe tbody tr th {\n",
       "        vertical-align: top;\n",
       "    }\n",
       "\n",
       "    .dataframe thead th {\n",
       "        text-align: right;\n",
       "    }\n",
       "</style>\n",
       "<table border=\"1\" class=\"dataframe\">\n",
       "  <thead>\n",
       "    <tr style=\"text-align: right;\">\n",
       "      <th></th>\n",
       "      <th>place</th>\n",
       "      <th>info</th>\n",
       "    </tr>\n",
       "  </thead>\n",
       "  <tbody>\n",
       "    <tr>\n",
       "      <th>439</th>\n",
       "      <td>팔공산온천관광호텔(온천)</td>\n",
       "      <td>팔공산 온천은 팔공산의 정기가 숨쉬는 비로봉 남동쪽 계곡부에서 발견된 물 맑은 온천...</td>\n",
       "    </tr>\n",
       "  </tbody>\n",
       "</table>\n",
       "</div>"
      ],
      "text/plain": [
       "             place                                               info\n",
       "439  팔공산온천관광호텔(온천)  팔공산 온천은 팔공산의 정기가 숨쉬는 비로봉 남동쪽 계곡부에서 발견된 물 맑은 온천..."
      ]
     },
     "execution_count": 30,
     "metadata": {},
     "output_type": "execute_result"
    }
   ],
   "source": [
    "daegu[make_bool_list(daegu)]"
   ]
  },
  {
   "cell_type": "code",
   "execution_count": 33,
   "id": "350e2711",
   "metadata": {},
   "outputs": [
    {
     "name": "stderr",
     "output_type": "stream",
     "text": [
      "C:\\Users\\Playdata\\AppData\\Local\\Temp\\ipykernel_7008\\2720117571.py:1: DtypeWarning: Columns (2,55,63,64,69,70,71,73,74,75,76,77,79,80,81,82,83) have mixed types. Specify dtype option on import or set low_memory=False.\n",
      "  all_df = pd.read_csv('C:\\\\Users\\\\Playdata\\\\OneDrive\\\\바탕 화면\\\\git folder\\\\3rd_project\\\\crawling-data\\\\합친 데이터셋\\\\전국 투어 데이터(컬럼수정전).csv')\n"
     ]
    }
   ],
   "source": [
    "all_df = pd.read_csv('C:\\\\Users\\\\Playdata\\\\OneDrive\\\\바탕 화면\\\\git folder\\\\3rd_project\\\\crawling-data\\\\합친 데이터셋\\\\전국 투어 데이터(컬럼수정전).csv')\n",
    "all_df[make_bool_list(all_df)].to_csv('텔 글자 들어간 것들만 모았어요.csv')"
   ]
  }
 ],
 "metadata": {
  "kernelspec": {
   "display_name": "llm_env",
   "language": "python",
   "name": "python3"
  },
  "language_info": {
   "codemirror_mode": {
    "name": "ipython",
    "version": 3
   },
   "file_extension": ".py",
   "mimetype": "text/x-python",
   "name": "python",
   "nbconvert_exporter": "python",
   "pygments_lexer": "ipython3",
   "version": "3.12.11"
  }
 },
 "nbformat": 4,
 "nbformat_minor": 5
}
