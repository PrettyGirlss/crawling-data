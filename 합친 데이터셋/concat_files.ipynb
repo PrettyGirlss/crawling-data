{
 "cells": [
  {
   "cell_type": "code",
   "execution_count": 6,
   "id": "be5daf98",
   "metadata": {},
   "outputs": [],
   "source": [
    "import pandas as pd\n",
    "import numpy as np"
   ]
  },
  {
   "cell_type": "code",
   "execution_count": null,
   "id": "c413811d",
   "metadata": {},
   "outputs": [],
   "source": [
    "# 대여 노트북용(지수)\n",
    "df1 = pd.read_csv(\"C:\\\\Users\\\\Playdata\\\\OneDrive\\\\바탕 화면\\\\git folder\\\\3rd_project\\\\crawling-data\\\\전부완료 모음\\\\광주 (전부완료).csv\")\n",
    "df2 = pd.read_csv(\"C:\\\\Users\\\\Playdata\\\\OneDrive\\\\바탕 화면\\\\git folder\\\\3rd_project\\\\crawling-data\\\\전부완료 모음\\\\대구(전부완료).csv\")\n",
    "df3 = pd.read_csv(\"C:\\\\Users\\\\Playdata\\\\OneDrive\\\\바탕 화면\\\\git folder\\\\3rd_project\\\\crawling-data\\\\전부완료 모음\\\\대전(전부완료).csv\")\n",
    "df4 = pd.read_csv(\"C:\\\\Users\\\\Playdata\\\\OneDrive\\\\바탕 화면\\\\git folder\\\\3rd_project\\\\crawling-data\\\\전부완료 모음\\\\부산(전부완료).csv\")\n",
    "df5 = pd.read_csv(\"C:\\\\Users\\\\Playdata\\\\OneDrive\\\\바탕 화면\\\\git folder\\\\3rd_project\\\\crawling-data\\\\전부완료 모음\\\\서울(전부완료).csv\")\n",
    "df6 = pd.read_csv(\"C:\\\\Users\\\\Playdata\\\\OneDrive\\\\바탕 화면\\\\git folder\\\\3rd_project\\\\crawling-data\\\\전부완료 모음\\\\세종(전부완료).csv\")\n",
    "df7 = pd.read_csv(\"C:\\\\Users\\\\Playdata\\\\OneDrive\\\\바탕 화면\\\\git folder\\\\3rd_project\\\\crawling-data\\\\전부완료 모음\\\\울산(전부완료).csv\")\n",
    "df8 = pd.read_csv(\"C:\\\\Users\\\\Playdata\\\\OneDrive\\\\바탕 화면\\\\git folder\\\\3rd_project\\\\crawling-data\\\\전부완료 모음\\\\인천(수정완료).csv\")\n",
    "df9 = pd.read_csv(\"C:\\\\Users\\\\Playdata\\\\OneDrive\\\\바탕 화면\\\\git folder\\\\3rd_project\\\\crawling-data\\\\전부완료 모음\\\\전남(전부완료).csv\")\n",
    "df10 = pd.read_csv(\"C:\\\\Users\\\\Playdata\\\\OneDrive\\\\바탕 화면\\\\git folder\\\\3rd_project\\\\crawling-data\\\\전부완료 모음\\\\전북(수정완료).csv\")\n",
    "df11 = pd.read_csv(\"C:\\\\Users\\\\Playdata\\\\OneDrive\\\\바탕 화면\\\\git folder\\\\3rd_project\\\\crawling-data\\\\전부완료 모음\\\\제주 (전부완료).csv\")\n",
    "df12 = pd.read_csv(\"C:\\\\Users\\\\Playdata\\\\OneDrive\\\\바탕 화면\\\\git folder\\\\3rd_project\\\\crawling-data\\\\전부완료 모음\\\\충남(전부완료).csv\")\n",
    "df13 = pd.read_csv(\"C:\\\\Users\\\\Playdata\\\\OneDrive\\\\바탕 화면\\\\git folder\\\\3rd_project\\\\crawling-data\\\\전부완료 모음\\\\충북(수정완료).csv\")\n",
    "df14 = pd.read_csv(\"C:\\\\Users\\\\Playdata\\\\OneDrive\\\\바탕 화면\\\\git folder\\\\3rd_project\\\\crawling-data\\\\합친 데이터셋\\\\강원,경기,경남,경북.csv\")"
   ]
  },
  {
   "cell_type": "code",
   "execution_count": null,
   "id": "7c1f0bf8",
   "metadata": {},
   "outputs": [
    {
     "name": "stderr",
     "output_type": "stream",
     "text": [
      "C:\\Users\\brain\\AppData\\Local\\Temp\\ipykernel_21028\\2238728983.py:14: DtypeWarning: Columns (51,52,53,54,55,57,60,66,67,68,70,71,74,75,76,79,80) have mixed types. Specify dtype option on import or set low_memory=False.\n",
      "  df14 = pd.read_csv('C:\\\\Users\\\\brain\\\\Desktop\\\\3차 프로젝트\\\\GIT\\\\crawling-data\\\\합친 데이터셋\\\\강원,경기,경남,경북.csv')\n"
     ]
    }
   ],
   "source": [
    "# 개인 노트북용(지수)\n",
    "df1 = pd.read_csv('C:\\\\Users\\\\brain\\\\Desktop\\\\3차 프로젝트\\\\GIT\\\\crawling-data\\\\전부완료 모음\\\\광주 (전부완료).csv')\n",
    "df2 = pd.read_csv('C:\\\\Users\\\\brain\\\\Desktop\\\\3차 프로젝트\\\\GIT\\\\crawling-data\\\\전부완료 모음\\\\대구(전부완료).csv')\n",
    "df3 = pd.read_csv('C:\\\\Users\\\\brain\\\\Desktop\\\\3차 프로젝트\\\\GIT\\\\crawling-data\\\\전부완료 모음\\\\대전(전부완료).csv')\n",
    "df4 = pd.read_csv('C:\\\\Users\\\\brain\\\\Desktop\\\\3차 프로젝트\\\\GIT\\\\crawling-data\\\\전부완료 모음\\\\부산(전부완료).csv')\n",
    "df5 = pd.read_csv('C:\\\\Users\\\\brain\\\\Desktop\\\\3차 프로젝트\\\\GIT\\\\crawling-data\\\\전부완료 모음\\\\서울(전부완료).csv')\n",
    "df6 = pd.read_csv('C:\\\\Users\\\\brain\\\\Desktop\\\\3차 프로젝트\\\\GIT\\\\crawling-data\\\\전부완료 모음\\\\세종(전부완료).csv')\n",
    "df7 = pd.read_csv('C:\\\\Users\\\\brain\\\\Desktop\\\\3차 프로젝트\\\\GIT\\\\crawling-data\\\\전부완료 모음\\\\울산(전부완료).csv')\n",
    "df8 = pd.read_csv('C:\\\\Users\\\\brain\\\\Desktop\\\\3차 프로젝트\\\\GIT\\\\crawling-data\\\\전부완료 모음\\\\인천(수정완료).csv')\n",
    "df9 = pd.read_csv('C:\\\\Users\\\\brain\\\\Desktop\\\\3차 프로젝트\\\\GIT\\\\crawling-data\\\\전부완료 모음\\\\전남(전부완료).csv')\n",
    "df10 = pd.read_csv('C:\\\\Users\\\\brain\\\\Desktop\\\\3차 프로젝트\\\\GIT\\\\crawling-data\\\\전부완료 모음\\\\전북(수정완료).csv')\n",
    "df11 = pd.read_csv('C:\\\\Users\\\\brain\\\\Desktop\\\\3차 프로젝트\\\\GIT\\\\crawling-data\\\\전부완료 모음\\\\제주 (전부완료).csv')\n",
    "df12 = pd.read_csv('C:\\\\Users\\\\brain\\\\Desktop\\\\3차 프로젝트\\\\GIT\\\\crawling-data\\\\전부완료 모음\\\\충남(전부완료).csv')\n",
    "df13 = pd.read_csv('C:\\\\Users\\\\brain\\\\Desktop\\\\3차 프로젝트\\\\GIT\\\\crawling-data\\\\전부완료 모음\\\\충북(수정완료).csv')\n",
    "df14 = pd.read_csv('C:\\\\Users\\\\brain\\\\Desktop\\\\3차 프로젝트\\\\GIT\\\\crawling-data\\\\합친 데이터셋\\\\강원,경기,경남,경북.csv')"
   ]
  },
  {
   "cell_type": "code",
   "execution_count": 8,
   "id": "dad31d4d",
   "metadata": {},
   "outputs": [
    {
     "name": "stdout",
     "output_type": "stream",
     "text": [
      "<class 'pandas.core.frame.DataFrame'>\n",
      "Index: 20508 entries, 0 to 9580\n",
      "Data columns (total 85 columns):\n",
      " #   Column      Non-Null Count  Dtype  \n",
      "---  ------      --------------  -----  \n",
      " 0   place       20507 non-null  object \n",
      " 1   info        20508 non-null  object \n",
      " 2   문의 및 안내     70 non-null     object \n",
      " 3   홈페이지        15806 non-null  object \n",
      " 4   주소          20508 non-null  object \n",
      " 5   이용시간        18248 non-null  object \n",
      " 6   휴일          17483 non-null  object \n",
      " 7   주차          17600 non-null  object \n",
      " 8   화장실         10316 non-null  object \n",
      " 9   입장료         7405 non-null   object \n",
      " 10  접근로         4521 non-null   object \n",
      " 11  review      8886 non-null   object \n",
      " 12  주차 요금       918 non-null    object \n",
      " 13  이용요금        5816 non-null   object \n",
      " 14  체험          2446 non-null   object \n",
      " 15  출입통로        4048 non-null   object \n",
      " 16  장애인 주차 안내   3816 non-null   object \n",
      " 17  엘리베이터       1788 non-null   object \n",
      " 18  수유실         766 non-null    object \n",
      " 19  판매 품목       1195 non-null   object \n",
      " 20  이용가능시설      2678 non-null   object \n",
      " 21  주차요금        1168 non-null   object \n",
      " 22  지정현황        2207 non-null   object \n",
      " 23  체험가능 연령     1063 non-null   object \n",
      " 24  유모차         750 non-null    object \n",
      " 25  휠체어         1104 non-null   object \n",
      " 26  지체장애 기타 상세  426 non-null    object \n",
      " 27  입점브랜드       99 non-null     object \n",
      " 28  규모          771 non-null    object \n",
      " 29  대중 교통       385 non-null    object \n",
      " 30  주요시설        1737 non-null   object \n",
      " 31  할인 정보       180 non-null    object \n",
      " 32  수용인원        481 non-null    object \n",
      " 33  오디오 가이드     243 non-null    object \n",
      " 34  시각장애 기타상세   84 non-null     object \n",
      " 35  관람석         263 non-null    object \n",
      " 36  점자 홍보물      426 non-null    object \n",
      " 37  보조견 동반      883 non-null    object \n",
      " 38  보유장비        219 non-null    object \n",
      " 39  안내 요원       354 non-null    object \n",
      " 40  시설이용료       1001 non-null   object \n",
      " 41  부대시설        1805 non-null   object \n",
      " 42  점자 블록       1143 non-null   object \n",
      " 43  이용 시기       91 non-null     object \n",
      " 44  강습안내        55 non-null     object \n",
      " 45  청각 장애 기타상세  27 non-null     object \n",
      " 46  코스안내        307 non-null    object \n",
      " 47  영유아가족 기타상세  536 non-null    object \n",
      " 48  유아용보조의자     18 non-null     object \n",
      " 49  개장기간        31 non-null     object \n",
      " 50  대여안내        374 non-null    object \n",
      " 51  유도안내 설비     54 non-null     object \n",
      " 52  예약안내 홈페이지   107 non-null    object \n",
      " 53  객실          105 non-null    object \n",
      " 54  자막 비디오 가이드  11 non-null     object \n",
      " 55  수화 안내       13 non-null     object \n",
      " 56  매표소         49 non-null     object \n",
      " 57  입실시간        221 non-null    object \n",
      " 58  퇴실시간        221 non-null    object \n",
      " 59  객실내 취사 여부   154 non-null    object \n",
      " 60  식음료장        118 non-null    object \n",
      " 61  객실수         208 non-null    object \n",
      " 62  영업시간        365 non-null    object \n",
      " 63  대표메뉴        363 non-null    object \n",
      " 64  취급메뉴        361 non-null    object \n",
      " 65  큰활자 홍보물     8 non-null      object \n",
      " 66  홍보물         3 non-null      object \n",
      " 67  Unnamed: 0  9658 non-null   float64\n",
      " 68  예약안내        171 non-null    object \n",
      " 69  객실유형        172 non-null    object \n",
      " 70  바비큐장여부      20 non-null     object \n",
      " 71  세미나실 여부     23 non-null     object \n",
      " 72  좌석수         9 non-null      object \n",
      " 73  사우나실 여부     10 non-null     object \n",
      " 74  캠프파이어 여부    3 non-null      object \n",
      " 75  스포츠 시설 여부   11 non-null     object \n",
      " 76  자전거 대여 여부   3 non-null      object \n",
      " 77  공용 PC실 여부   3 non-null      object \n",
      " 78  휘트니스 센터 여부  6 non-null      object \n",
      " 79  노래방 여부      10 non-null     object \n",
      " 80  청각장애용 객실    2 non-null      object \n",
      " 81  뷰티시설여부      4 non-null      object \n",
      " 82  공용 샤워실 여부   3 non-null      object \n",
      " 83  청각장애 기타상세   2 non-null      object \n",
      " 84  보조견동반       1 non-null      object \n",
      "dtypes: float64(1), object(84)\n",
      "memory usage: 13.5+ MB\n"
     ]
    },
    {
     "data": {
      "text/plain": [
       "(None,\n",
       " Index(['place', 'info', '문의 및 안내', '홈페이지', '주소', '이용시간', '휴일', '주차', '화장실',\n",
       "        '입장료', '접근로', 'review', '주차 요금', '이용요금', '체험', '출입통로', '장애인 주차 안내',\n",
       "        '엘리베이터', '수유실', '판매 품목', '이용가능시설', '주차요금', '지정현황', '체험가능 연령', '유모차',\n",
       "        '휠체어', '지체장애 기타 상세', '입점브랜드', '규모', '대중 교통', '주요시설', '할인 정보', '수용인원',\n",
       "        '오디오 가이드', '시각장애 기타상세', '관람석', '점자 홍보물', '보조견 동반', '보유장비', '안내 요원',\n",
       "        '시설이용료', '부대시설', '점자 블록', '이용 시기', '강습안내', '청각 장애 기타상세', '코스안내',\n",
       "        '영유아가족 기타상세', '유아용보조의자', '개장기간', '대여안내', '유도안내 설비', '예약안내 홈페이지', '객실',\n",
       "        '자막 비디오 가이드', '수화 안내', '매표소', '입실시간', '퇴실시간', '객실내 취사 여부', '식음료장',\n",
       "        '객실수', '영업시간', '대표메뉴', '취급메뉴', '큰활자 홍보물', '홍보물', 'Unnamed: 0', '예약안내',\n",
       "        '객실유형', '바비큐장여부', '세미나실 여부', '좌석수', '사우나실 여부', '캠프파이어 여부', '스포츠 시설 여부',\n",
       "        '자전거 대여 여부', '공용 PC실 여부', '휘트니스 센터 여부', '노래방 여부', '청각장애용 객실', '뷰티시설여부',\n",
       "        '공용 샤워실 여부', '청각장애 기타상세', '보조견동반'],\n",
       "       dtype='object'))"
      ]
     },
     "execution_count": 8,
     "metadata": {},
     "output_type": "execute_result"
    }
   ],
   "source": [
    "df = pd.concat([df1,df2,df3,df4,df5,df6,df7,df8,df9,df10,df11,df12,df13,df14])\n",
    "df.info(), df.columns"
   ]
  },
  {
   "cell_type": "code",
   "execution_count": 9,
   "id": "e4101e75",
   "metadata": {},
   "outputs": [
    {
     "data": {
      "text/plain": [
       "Index(['place', 'info', '문의 및 안내', '홈페이지', '주소', '이용시간', '휴일', '주차', '화장실',\n",
       "       '입장료', '접근로', 'review', '주차 요금', '이용요금', '체험', '출입통로', '장애인 주차 안내',\n",
       "       '엘리베이터', '수유실', '판매 품목', '이용가능시설', '주차요금', '지정현황', '체험가능 연령', '유모차',\n",
       "       '휠체어', '지체장애 기타 상세', '입점브랜드', '규모', '대중 교통', '주요시설', '할인 정보', '수용인원',\n",
       "       '오디오 가이드', '시각장애 기타상세', '관람석', '점자 홍보물', '보조견 동반', '보유장비', '안내 요원',\n",
       "       '시설이용료', '부대시설', '점자 블록', '이용 시기', '강습안내', '청각 장애 기타상세', '코스안내',\n",
       "       '영유아가족 기타상세', '유아용보조의자', '개장기간', '대여안내', '유도안내 설비', '예약안내 홈페이지', '객실',\n",
       "       '자막 비디오 가이드', '수화 안내', '매표소', '입실시간', '퇴실시간', '객실내 취사 여부', '식음료장',\n",
       "       '객실수', '영업시간', '대표메뉴', '취급메뉴', '큰활자 홍보물', '홍보물', '예약안내', '객실유형',\n",
       "       '바비큐장여부', '세미나실 여부', '좌석수', '사우나실 여부', '캠프파이어 여부', '스포츠 시설 여부',\n",
       "       '자전거 대여 여부', '공용 PC실 여부', '휘트니스 센터 여부', '노래방 여부', '청각장애용 객실', '뷰티시설여부',\n",
       "       '공용 샤워실 여부', '청각장애 기타상세', '보조견동반'],\n",
       "      dtype='object')"
      ]
     },
     "execution_count": 9,
     "metadata": {},
     "output_type": "execute_result"
    }
   ],
   "source": [
    "df.drop('Unnamed: 0',axis=1, inplace=True)\n",
    "df.columns"
   ]
  },
  {
   "cell_type": "code",
   "execution_count": 16,
   "id": "98f042c3",
   "metadata": {},
   "outputs": [],
   "source": [
    "df.to_csv('전국 투어 데이터(컬럼수정전).csv',index=False)"
   ]
  }
 ],
 "metadata": {
  "kernelspec": {
   "display_name": "llm_env",
   "language": "python",
   "name": "python3"
  },
  "language_info": {
   "codemirror_mode": {
    "name": "ipython",
    "version": 3
   },
   "file_extension": ".py",
   "mimetype": "text/x-python",
   "name": "python",
   "nbconvert_exporter": "python",
   "pygments_lexer": "ipython3",
   "version": "3.12.11"
  }
 },
 "nbformat": 4,
 "nbformat_minor": 5
}
